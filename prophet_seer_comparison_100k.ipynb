{
 "cells": [
  {
   "cell_type": "markdown",
   "id": "aa3cab3a",
   "metadata": {},
   "source": [
    "# Prophet vs Seer: Performance at scale (up to 100k rows)\n",
    "\n",
    "This notebook benchmarks fitting and predicting performance for Prophet and Seer on synthetic time series of increasing length up to 100,000 rows. It mirrors the original `prophet_seer_comparison.ipynb` but focuses on speed and scaling behavior.\n",
    "\n",
    "Notes:\n",
    "- The notebook will detect whether `prophet` and `seer` are installed and skip any missing library.\n",
    "- Seer prefers Polars DataFrames; Prophet uses Pandas.\n",
    "- The synthetic data includes a linear trend + yearly seasonality + noise.\n",
    "- For very large sizes, results may take several minutes depending on your machine and configuration."
   ]
  },
  {
   "cell_type": "code",
   "execution_count": 1,
   "id": "911dc071",
   "metadata": {},
   "outputs": [
    {
     "name": "stdout",
     "output_type": "stream",
     "text": [
      "Libraries imported\n"
     ]
    }
   ],
   "source": [
    "# Cell 2: Imports and helpers\n",
    "import time\n",
    "import math\n",
    "import numpy as np\n",
    "import pandas as pd\n",
    "import polars as pl\n",
    "import matplotlib.pyplot as plt\n",
    "from datetime import timedelta\n",
    "import warnings\n",
    "warnings.filterwarnings('ignore')\n",
    "\n",
    "print('Libraries imported')"
   ]
  },
  {
   "cell_type": "code",
   "execution_count": null,
   "id": "331f9ee3",
   "metadata": {},
   "outputs": [
    {
     "name": "stderr",
     "output_type": "stream",
     "text": [
      "Importing plotly failed. Interactive plots will not work.\n"
     ]
    },
    {
     "name": "stdout",
     "output_type": "stream",
     "text": [
      "✓ Prophet available\n",
      "⚠ Seer not available: No module named 'seer'\n"
     ]
    }
   ],
   "source": [
    "# Cell 3: Check availability of Prophet and Seer\n",
    "HAS_PROPHET = False\n",
    "HAS_SEER = False\n",
    "try:\n",
    "    from prophet import Prophet  # type: ignore\n",
    "    HAS_PROPHET = True\n",
    "    print('✓ Prophet available')\n",
    "except Exception as e:\n",
    "    print('⚠ Prophet not available:', e)\n",
    "\n",
    "try:\n",
    "    from farseer import Farseer  # type: ignore\n",
    "    HAS_SEER = True\n",
    "    print('✓ Seer available')\n",
    "except Exception as e:\n",
    "    print('⚠ Seer not available:', e)\n",
    "\n",
    "# We'll still create the notebook even if one library is missing; cells will skip runs accordingly."
   ]
  },
  {
   "cell_type": "code",
   "execution_count": 3,
   "id": "1e33eded",
   "metadata": {},
   "outputs": [
    {
     "name": "stdout",
     "output_type": "stream",
     "text": [
      "          ds           y\n",
      "0 2000-01-01  101.764052\n",
      "1 2000-01-02  100.582173\n",
      "2 2000-01-03  101.342719\n",
      "3 2000-01-04  102.786737\n",
      "4 2000-01-05  102.595112\n"
     ]
    }
   ],
   "source": [
    "# Cell 4: Synthetic data generator\n",
    "def make_seasonal_series(n_rows, freq='D', start='2000-01-01', seed=0, amplitude=10.0, trend_slope=0.001, noise_scale=1.0):\n",
    "    np.random.seed(seed)\n",
    "    # create equally spaced dates at daily frequency by default; for monthly benchmarks use freq='MS' explicitly\n",
    "    dates = pd.date_range(start=start, periods=n_rows, freq=freq)\n",
    "    t = np.arange(n_rows).astype(float)\n",
    "    # yearly seasonality approximation depending on frequency: use 365.25 for daily, 12 for monthly\n",
    "    if freq.upper().startswith('D'):\n",
    "        period = 365.25\n",
    "    elif freq.upper().startswith('MS') or freq.upper().startswith('M'):\n",
    "        period = 12.0\n",
    "    else:\n",
    "        # fallback to daily-like period scaling\n",
    "        period = 365.25\n",
    "    seasonal = amplitude * np.sin(2 * np.pi * t / period)\n",
    "    trend = trend_slope * t * amplitude\n",
    "    noise = np.random.normal(scale=noise_scale, size=n_rows)\n",
    "    y = 100.0 + trend + seasonal + noise\n",
    "    df = pd.DataFrame({'ds': dates, 'y': y})\n",
    "    return df\n",
    "\n",
    "# Quick smoke test\n",
    "print(make_seasonal_series(10).head())"
   ]
  },
  {
   "cell_type": "code",
   "execution_count": 4,
   "id": "e62b46c1",
   "metadata": {},
   "outputs": [
    {
     "name": "stdout",
     "output_type": "stream",
     "text": [
      "Benchmark sizes: [1000, 5000, 10000, 25000, 50000, 100000]\n"
     ]
    }
   ],
   "source": [
    "# Cell 5: Benchmark loop configuration\n",
    "sizes = [1000, 5000, 10000, 25000, 50000, 100000]  # up to 100k rows\n",
    "# Use monthly data for compatibility with the original notebook? Use daily by default for large counts to keep natural spacing\n",
    "freq = 'D'  # daily makes it easy to scale to 100k rows; change to 'MS' if monthly behavior is desired (note: 100k months is unrealistic)\n",
    "results = []\n",
    "max_train_fraction = 0.9  # keep a small test set\n",
    "\n",
    "print('Benchmark sizes:', sizes)"
   ]
  },
  {
   "cell_type": "code",
   "execution_count": null,
   "id": "d5190c80",
   "metadata": {},
   "outputs": [
    {
     "name": "stdout",
     "output_type": "stream",
     "text": [
      "================================================================================\n",
      "Running benchmark for n=1000\n"
     ]
    },
    {
     "name": "stderr",
     "output_type": "stream",
     "text": [
      "01:05:38 - cmdstanpy - INFO - Chain [1] start processing\n",
      "01:05:38 - cmdstanpy - INFO - Chain [1] done processing\n"
     ]
    },
    {
     "name": "stdout",
     "output_type": "stream",
     "text": [
      "  Prophet: fit=0.105s predict=0.030s\n",
      "================================================================================\n",
      "Running benchmark for n=5000\n"
     ]
    },
    {
     "name": "stderr",
     "output_type": "stream",
     "text": [
      "01:05:39 - cmdstanpy - INFO - Chain [1] start processing\n",
      "01:05:39 - cmdstanpy - INFO - Chain [1] done processing\n"
     ]
    },
    {
     "name": "stdout",
     "output_type": "stream",
     "text": [
      "  Prophet: fit=0.404s predict=0.100s\n",
      "================================================================================\n",
      "Running benchmark for n=10000\n"
     ]
    },
    {
     "name": "stderr",
     "output_type": "stream",
     "text": [
      "01:05:39 - cmdstanpy - INFO - Chain [1] start processing\n",
      "01:05:40 - cmdstanpy - INFO - Chain [1] done processing\n"
     ]
    },
    {
     "name": "stdout",
     "output_type": "stream",
     "text": [
      "  Prophet: fit=0.733s predict=0.154s\n",
      "================================================================================\n",
      "Running benchmark for n=25000\n"
     ]
    },
    {
     "name": "stderr",
     "output_type": "stream",
     "text": [
      "01:05:40 - cmdstanpy - INFO - Chain [1] start processing\n",
      "01:05:42 - cmdstanpy - INFO - Chain [1] done processing\n"
     ]
    },
    {
     "name": "stdout",
     "output_type": "stream",
     "text": [
      "  Prophet: fit=1.723s predict=0.339s\n",
      "================================================================================\n",
      "Running benchmark for n=50000\n"
     ]
    },
    {
     "name": "stderr",
     "output_type": "stream",
     "text": [
      "01:05:43 - cmdstanpy - INFO - Chain [1] start processing\n",
      "01:05:46 - cmdstanpy - INFO - Chain [1] done processing\n"
     ]
    },
    {
     "name": "stdout",
     "output_type": "stream",
     "text": [
      "  Prophet: fit=3.844s predict=0.720s\n",
      "================================================================================\n",
      "Running benchmark for n=100000\n"
     ]
    },
    {
     "ename": "OutOfBoundsDatetime",
     "evalue": "Cannot generate range with start=946684800000000000 and periods=100000",
     "output_type": "error",
     "traceback": [
      "\u001b[31m---------------------------------------------------------------------------\u001b[39m",
      "\u001b[31mOutOfBoundsDatetime\u001b[39m                       Traceback (most recent call last)",
      "\u001b[36mCell\u001b[39m\u001b[36m \u001b[39m\u001b[32mIn[5]\u001b[39m\u001b[32m, line 5\u001b[39m\n\u001b[32m      3\u001b[39m \u001b[38;5;28mprint\u001b[39m(\u001b[33m'\u001b[39m\u001b[33m'\u001b[39m + \u001b[33m'\u001b[39m\u001b[33m=\u001b[39m\u001b[33m'\u001b[39m*\u001b[32m80\u001b[39m)\n\u001b[32m      4\u001b[39m \u001b[38;5;28mprint\u001b[39m(\u001b[33mf\u001b[39m\u001b[33m'\u001b[39m\u001b[33mRunning benchmark for n=\u001b[39m\u001b[38;5;132;01m{\u001b[39;00mn\u001b[38;5;132;01m}\u001b[39;00m\u001b[33m'\u001b[39m)\n\u001b[32m----> \u001b[39m\u001b[32m5\u001b[39m df = \u001b[43mmake_seasonal_series\u001b[49m\u001b[43m(\u001b[49m\u001b[43mn_rows\u001b[49m\u001b[43m=\u001b[49m\u001b[43mn\u001b[49m\u001b[43m,\u001b[49m\u001b[43m \u001b[49m\u001b[43mfreq\u001b[49m\u001b[43m=\u001b[49m\u001b[43mfreq\u001b[49m\u001b[43m,\u001b[49m\u001b[43m \u001b[49m\u001b[43mseed\u001b[49m\u001b[43m=\u001b[49m\u001b[32;43m42\u001b[39;49m\u001b[43m,\u001b[49m\u001b[43m \u001b[49m\u001b[43mamplitude\u001b[49m\u001b[43m=\u001b[49m\u001b[32;43m20.0\u001b[39;49m\u001b[43m,\u001b[49m\u001b[43m \u001b[49m\u001b[43mtrend_slope\u001b[49m\u001b[43m=\u001b[49m\u001b[32;43m0.0005\u001b[39;49m\u001b[43m,\u001b[49m\u001b[43m \u001b[49m\u001b[43mnoise_scale\u001b[49m\u001b[43m=\u001b[49m\u001b[32;43m2.0\u001b[39;49m\u001b[43m)\u001b[49m\n\u001b[32m      6\u001b[39m \u001b[38;5;66;03m# train/test split\u001b[39;00m\n\u001b[32m      7\u001b[39m train_n = \u001b[38;5;28mmax\u001b[39m(\u001b[32m2\u001b[39m, \u001b[38;5;28mint\u001b[39m(n * max_train_fraction))\n",
      "\u001b[36mCell\u001b[39m\u001b[36m \u001b[39m\u001b[32mIn[3]\u001b[39m\u001b[32m, line 5\u001b[39m, in \u001b[36mmake_seasonal_series\u001b[39m\u001b[34m(n_rows, freq, start, seed, amplitude, trend_slope, noise_scale)\u001b[39m\n\u001b[32m      3\u001b[39m np.random.seed(seed)\n\u001b[32m      4\u001b[39m \u001b[38;5;66;03m# create equally spaced dates at daily frequency by default; for monthly benchmarks use freq='MS' explicitly\u001b[39;00m\n\u001b[32m----> \u001b[39m\u001b[32m5\u001b[39m dates = \u001b[43mpd\u001b[49m\u001b[43m.\u001b[49m\u001b[43mdate_range\u001b[49m\u001b[43m(\u001b[49m\u001b[43mstart\u001b[49m\u001b[43m=\u001b[49m\u001b[43mstart\u001b[49m\u001b[43m,\u001b[49m\u001b[43m \u001b[49m\u001b[43mperiods\u001b[49m\u001b[43m=\u001b[49m\u001b[43mn_rows\u001b[49m\u001b[43m,\u001b[49m\u001b[43m \u001b[49m\u001b[43mfreq\u001b[49m\u001b[43m=\u001b[49m\u001b[43mfreq\u001b[49m\u001b[43m)\u001b[49m\n\u001b[32m      6\u001b[39m t = np.arange(n_rows).astype(\u001b[38;5;28mfloat\u001b[39m)\n\u001b[32m      7\u001b[39m \u001b[38;5;66;03m# yearly seasonality approximation depending on frequency: use 365.25 for daily, 12 for monthly\u001b[39;00m\n",
      "\u001b[36mFile \u001b[39m\u001b[32m~/seer/.venv/lib/python3.11/site-packages/pandas/core/indexes/datetimes.py:945\u001b[39m, in \u001b[36mdate_range\u001b[39m\u001b[34m(start, end, periods, freq, tz, normalize, name, inclusive, unit, **kwargs)\u001b[39m\n\u001b[32m    942\u001b[39m \u001b[38;5;28;01mif\u001b[39;00m freq \u001b[38;5;129;01mis\u001b[39;00m \u001b[38;5;28;01mNone\u001b[39;00m \u001b[38;5;129;01mand\u001b[39;00m com.any_none(periods, start, end):\n\u001b[32m    943\u001b[39m     freq = \u001b[33m\"\u001b[39m\u001b[33mD\u001b[39m\u001b[33m\"\u001b[39m\n\u001b[32m--> \u001b[39m\u001b[32m945\u001b[39m dtarr = \u001b[43mDatetimeArray\u001b[49m\u001b[43m.\u001b[49m\u001b[43m_generate_range\u001b[49m\u001b[43m(\u001b[49m\n\u001b[32m    946\u001b[39m \u001b[43m    \u001b[49m\u001b[43mstart\u001b[49m\u001b[43m=\u001b[49m\u001b[43mstart\u001b[49m\u001b[43m,\u001b[49m\n\u001b[32m    947\u001b[39m \u001b[43m    \u001b[49m\u001b[43mend\u001b[49m\u001b[43m=\u001b[49m\u001b[43mend\u001b[49m\u001b[43m,\u001b[49m\n\u001b[32m    948\u001b[39m \u001b[43m    \u001b[49m\u001b[43mperiods\u001b[49m\u001b[43m=\u001b[49m\u001b[43mperiods\u001b[49m\u001b[43m,\u001b[49m\n\u001b[32m    949\u001b[39m \u001b[43m    \u001b[49m\u001b[43mfreq\u001b[49m\u001b[43m=\u001b[49m\u001b[43mfreq\u001b[49m\u001b[43m,\u001b[49m\n\u001b[32m    950\u001b[39m \u001b[43m    \u001b[49m\u001b[43mtz\u001b[49m\u001b[43m=\u001b[49m\u001b[43mtz\u001b[49m\u001b[43m,\u001b[49m\n\u001b[32m    951\u001b[39m \u001b[43m    \u001b[49m\u001b[43mnormalize\u001b[49m\u001b[43m=\u001b[49m\u001b[43mnormalize\u001b[49m\u001b[43m,\u001b[49m\n\u001b[32m    952\u001b[39m \u001b[43m    \u001b[49m\u001b[43minclusive\u001b[49m\u001b[43m=\u001b[49m\u001b[43minclusive\u001b[49m\u001b[43m,\u001b[49m\n\u001b[32m    953\u001b[39m \u001b[43m    \u001b[49m\u001b[43munit\u001b[49m\u001b[43m=\u001b[49m\u001b[43munit\u001b[49m\u001b[43m,\u001b[49m\n\u001b[32m    954\u001b[39m \u001b[43m    \u001b[49m\u001b[43m*\u001b[49m\u001b[43m*\u001b[49m\u001b[43mkwargs\u001b[49m\u001b[43m,\u001b[49m\n\u001b[32m    955\u001b[39m \u001b[43m\u001b[49m\u001b[43m)\u001b[49m\n\u001b[32m    956\u001b[39m \u001b[38;5;28;01mreturn\u001b[39;00m DatetimeIndex._simple_new(dtarr, name=name)\n",
      "\u001b[36mFile \u001b[39m\u001b[32m~/seer/.venv/lib/python3.11/site-packages/pandas/core/arrays/datetimes.py:446\u001b[39m, in \u001b[36mDatetimeArray._generate_range\u001b[39m\u001b[34m(cls, start, end, periods, freq, tz, normalize, ambiguous, nonexistent, inclusive, unit)\u001b[39m\n\u001b[32m    443\u001b[39m         end = end.tz_localize(\u001b[38;5;28;01mNone\u001b[39;00m)\n\u001b[32m    445\u001b[39m \u001b[38;5;28;01mif\u001b[39;00m \u001b[38;5;28misinstance\u001b[39m(freq, Tick):\n\u001b[32m--> \u001b[39m\u001b[32m446\u001b[39m     i8values = \u001b[43mgenerate_regular_range\u001b[49m\u001b[43m(\u001b[49m\u001b[43mstart\u001b[49m\u001b[43m,\u001b[49m\u001b[43m \u001b[49m\u001b[43mend\u001b[49m\u001b[43m,\u001b[49m\u001b[43m \u001b[49m\u001b[43mperiods\u001b[49m\u001b[43m,\u001b[49m\u001b[43m \u001b[49m\u001b[43mfreq\u001b[49m\u001b[43m,\u001b[49m\u001b[43m \u001b[49m\u001b[43munit\u001b[49m\u001b[43m=\u001b[49m\u001b[43munit\u001b[49m\u001b[43m)\u001b[49m\n\u001b[32m    447\u001b[39m \u001b[38;5;28;01melse\u001b[39;00m:\n\u001b[32m    448\u001b[39m     xdr = _generate_range(\n\u001b[32m    449\u001b[39m         start=start, end=end, periods=periods, offset=freq, unit=unit\n\u001b[32m    450\u001b[39m     )\n",
      "\u001b[36mFile \u001b[39m\u001b[32m~/seer/.venv/lib/python3.11/site-packages/pandas/core/arrays/_ranges.py:71\u001b[39m, in \u001b[36mgenerate_regular_range\u001b[39m\u001b[34m(start, end, periods, freq, unit)\u001b[39m\n\u001b[32m     69\u001b[39m \u001b[38;5;28;01melif\u001b[39;00m istart \u001b[38;5;129;01mis\u001b[39;00m \u001b[38;5;129;01mnot\u001b[39;00m \u001b[38;5;28;01mNone\u001b[39;00m \u001b[38;5;129;01mand\u001b[39;00m periods \u001b[38;5;129;01mis\u001b[39;00m \u001b[38;5;129;01mnot\u001b[39;00m \u001b[38;5;28;01mNone\u001b[39;00m:\n\u001b[32m     70\u001b[39m     b = istart\n\u001b[32m---> \u001b[39m\u001b[32m71\u001b[39m     e = \u001b[43m_generate_range_overflow_safe\u001b[49m\u001b[43m(\u001b[49m\u001b[43mb\u001b[49m\u001b[43m,\u001b[49m\u001b[43m \u001b[49m\u001b[43mperiods\u001b[49m\u001b[43m,\u001b[49m\u001b[43m \u001b[49m\u001b[43mstride\u001b[49m\u001b[43m,\u001b[49m\u001b[43m \u001b[49m\u001b[43mside\u001b[49m\u001b[43m=\u001b[49m\u001b[33;43m\"\u001b[39;49m\u001b[33;43mstart\u001b[39;49m\u001b[33;43m\"\u001b[39;49m\u001b[43m)\u001b[49m\n\u001b[32m     72\u001b[39m \u001b[38;5;28;01melif\u001b[39;00m iend \u001b[38;5;129;01mis\u001b[39;00m \u001b[38;5;129;01mnot\u001b[39;00m \u001b[38;5;28;01mNone\u001b[39;00m \u001b[38;5;129;01mand\u001b[39;00m periods \u001b[38;5;129;01mis\u001b[39;00m \u001b[38;5;129;01mnot\u001b[39;00m \u001b[38;5;28;01mNone\u001b[39;00m:\n\u001b[32m     73\u001b[39m     e = iend + stride\n",
      "\u001b[36mFile \u001b[39m\u001b[32m~/seer/.venv/lib/python3.11/site-packages/pandas/core/arrays/_ranges.py:136\u001b[39m, in \u001b[36m_generate_range_overflow_safe\u001b[39m\u001b[34m(endpoint, periods, stride, side)\u001b[39m\n\u001b[32m    132\u001b[39m         \u001b[38;5;28;01mraise\u001b[39;00m OutOfBoundsDatetime(msg) \u001b[38;5;28;01mfrom\u001b[39;00m\u001b[38;5;250m \u001b[39m\u001b[34;01merr\u001b[39;00m\n\u001b[32m    134\u001b[39m \u001b[38;5;28;01mif\u001b[39;00m np.abs(addend) <= i64max:\n\u001b[32m    135\u001b[39m     \u001b[38;5;66;03m# relatively easy case without casting concerns\u001b[39;00m\n\u001b[32m--> \u001b[39m\u001b[32m136\u001b[39m     \u001b[38;5;28;01mreturn\u001b[39;00m \u001b[43m_generate_range_overflow_safe_signed\u001b[49m\u001b[43m(\u001b[49m\u001b[43mendpoint\u001b[49m\u001b[43m,\u001b[49m\u001b[43m \u001b[49m\u001b[43mperiods\u001b[49m\u001b[43m,\u001b[49m\u001b[43m \u001b[49m\u001b[43mstride\u001b[49m\u001b[43m,\u001b[49m\u001b[43m \u001b[49m\u001b[43mside\u001b[49m\u001b[43m)\u001b[49m\n\u001b[32m    138\u001b[39m \u001b[38;5;28;01melif\u001b[39;00m (endpoint > \u001b[32m0\u001b[39m \u001b[38;5;129;01mand\u001b[39;00m side == \u001b[33m\"\u001b[39m\u001b[33mstart\u001b[39m\u001b[33m\"\u001b[39m \u001b[38;5;129;01mand\u001b[39;00m stride > \u001b[32m0\u001b[39m) \u001b[38;5;129;01mor\u001b[39;00m (\n\u001b[32m    139\u001b[39m     endpoint < \u001b[32m0\u001b[39m < stride \u001b[38;5;129;01mand\u001b[39;00m side == \u001b[33m\"\u001b[39m\u001b[33mend\u001b[39m\u001b[33m\"\u001b[39m\n\u001b[32m    140\u001b[39m ):\n\u001b[32m    141\u001b[39m     \u001b[38;5;66;03m# no chance of not-overflowing\u001b[39;00m\n\u001b[32m    142\u001b[39m     \u001b[38;5;28;01mraise\u001b[39;00m OutOfBoundsDatetime(msg)\n",
      "\u001b[36mFile \u001b[39m\u001b[32m~/seer/.venv/lib/python3.11/site-packages/pandas/core/arrays/_ranges.py:207\u001b[39m, in \u001b[36m_generate_range_overflow_safe_signed\u001b[39m\u001b[34m(endpoint, periods, stride, side)\u001b[39m\n\u001b[32m    202\u001b[39m         \u001b[38;5;28;01mif\u001b[39;00m result <= i64max + np.uint64(stride):\n\u001b[32m    203\u001b[39m             \u001b[38;5;66;03m# error: Incompatible return value type (got \"unsignedinteger\", expected\u001b[39;00m\n\u001b[32m    204\u001b[39m             \u001b[38;5;66;03m# \"int\")\u001b[39;00m\n\u001b[32m    205\u001b[39m             \u001b[38;5;28;01mreturn\u001b[39;00m result  \u001b[38;5;66;03m# type: ignore[return-value]\u001b[39;00m\n\u001b[32m--> \u001b[39m\u001b[32m207\u001b[39m \u001b[38;5;28;01mraise\u001b[39;00m OutOfBoundsDatetime(\n\u001b[32m    208\u001b[39m     \u001b[33mf\u001b[39m\u001b[33m\"\u001b[39m\u001b[33mCannot generate range with \u001b[39m\u001b[38;5;132;01m{\u001b[39;00mside\u001b[38;5;132;01m}\u001b[39;00m\u001b[33m=\u001b[39m\u001b[38;5;132;01m{\u001b[39;00mendpoint\u001b[38;5;132;01m}\u001b[39;00m\u001b[33m and periods=\u001b[39m\u001b[38;5;132;01m{\u001b[39;00mperiods\u001b[38;5;132;01m}\u001b[39;00m\u001b[33m\"\u001b[39m\n\u001b[32m    209\u001b[39m )\n",
      "\u001b[31mOutOfBoundsDatetime\u001b[39m: Cannot generate range with start=946684800000000000 and periods=100000"
     ]
    }
   ],
   "source": [
    "# Cell 6: Run the benchmarks (this cell may take time)\n",
    "for n in sizes:\n",
    "    print('' + '='*80)\n",
    "    print(f'Running benchmark for n={n}')\n",
    "    df = make_seasonal_series(n_rows=n, freq=freq, seed=42, amplitude=20.0, trend_slope=0.0005, noise_scale=2.0)\n",
    "    # train/test split\n",
    "    train_n = max(2, int(n * max_train_fraction))\n",
    "    df_train = df.iloc[:train_n].reset_index(drop=True)\n",
    "    df_test = df.iloc[train_n:].reset_index(drop=True)\n",
    "\n",
    "    # Prepare polars version for Seer\n",
    "    df_train_pl = pl.from_pandas(df_train)\n",
    "    df_test_pl = pl.from_pandas(df_test)\n",
    "\n",
    "    row = {'n': n}\n",
    "\n",
    "    # Prophet: fit & predict\n",
    "    if HAS_PROPHET:\n",
    "        try:\n",
    "            prophet_model = Prophet(seasonality_mode='additive', yearly_seasonality=True, weekly_seasonality=False, daily_seasonality=False)\n",
    "            t0 = time.time()\n",
    "            prophet_model.fit(df_train)\n",
    "            fit_t = time.time() - t0\n",
    "            t0 = time.time()\n",
    "            # Prophet's predict expects a dataframe with 'ds' column; predict on test period only\n",
    "            prophet_forecast = prophet_model.predict(df_test[['ds']]) if len(df_test) > 0 else prophet_model.predict(df_train[['ds']])\n",
    "            predict_t = time.time() - t0\n",
    "            row.update({'prophet_fit_s': fit_t, 'prophet_predict_s': predict_t})\n",
    "            print(f'  Prophet: fit={fit_t:.3f}s predict={predict_t:.3f}s')\n",
    "        except Exception as e:\n",
    "            print('  Prophet run failed:', e)\n",
    "            row.update({'prophet_fit_s': None, 'prophet_predict_s': None, 'prophet_error': str(e)})\n",
    "    else:\n",
    "        row.update({'prophet_fit_s': None, 'prophet_predict_s': None, 'prophet_error': 'not_installed'})\n",
    "\n",
    "    # Seer: fit & predict\n",
    "    if HAS_SEER:\n",
    "        try:\n",
    "            seer_model = Farseer(seasonality_mode='additive', yearly_seasonality=True, weekly_seasonality=False, daily_seasonality=False)\n",
    "            t0 = time.time()\n",
    "            seer_model.fit(df_train_pl)\n",
    "            fit_t = time.time() - t0\n",
    "            t0 = time.time()\n",
    "            seer_forecast_pl = seer_model.predict(df_test_pl) if len(df_test_pl) > 0 else seer_model.predict(df_train_pl)\n",
    "            predict_t = time.time() - t0\n",
    "            row.update({'seer_fit_s': fit_t, 'seer_predict_s': predict_t})\n",
    "            print(f'  Seer:   fit={fit_t:.3f}s predict={predict_t:.3f}s')\n",
    "        except Exception as e:\n",
    "            print('  Seer run failed:', e)\n",
    "            row.update({'seer_fit_s': None, 'seer_predict_s': None, 'seer_error': str(e)})\n",
    "    else:\n",
    "        row.update({'seer_fit_s': None, 'seer_predict_s': None, 'seer_error': 'not_installed'})\n",
    "\n",
    "    results.append(row)\n",
    "\n",
    "print('Benchmark complete')"
   ]
  },
  {
   "cell_type": "code",
   "execution_count": null,
   "id": "62faf21f",
   "metadata": {},
   "outputs": [],
   "source": [
    "# Cell 7: Results summary and plots\n",
    "res_df = pd.DataFrame(results)\n",
    "print(res_df)\n",
    "\n",
    "# Plot fit times\n",
    "fig, ax = plt.subplots(1, 2, figsize=(16, 5))\n",
    "if HAS_PROPHET:\n",
    "    ax[0].plot(res_df['n'], res_df['prophet_fit_s'], 'o-', label='Prophet fit')\n",
    "if HAS_SEER:\n",
    "    ax[0].plot(res_df['n'], res_df['seer_fit_s'], 'o-', label='Seer fit')\n",
    "ax[0].set_xscale('log')\n",
    "ax[0].set_yscale('log')\n",
    "ax[0].set_xlabel('Rows (log scale)')\n",
    "ax[0].set_ylabel('Fit time (s, log scale)')\n",
    "ax[0].set_title('Model Fit Time Scaling')\n",
    "ax[0].legend()\n",
    "\n",
    "# Plot predict times\n",
    "if HAS_PROPHET:\n",
    "    ax[1].plot(res_df['n'], res_df['prophet_predict_s'], 'o-', label='Prophet predict')\n",
    "if HAS_SEER:\n",
    "    ax[1].plot(res_df['n'], res_df['seer_predict_s'], 'o-', label='Seer predict')\n",
    "ax[1].set_xscale('log')\n",
    "ax[1].set_xlabel('Rows (log scale)')\n",
    "ax[1].set_ylabel('Predict time (s)')\n",
    "ax[1].set_title('Model Predict Time Scaling')\n",
    "ax[1].legend()\n",
    "\n",
    "plt.tight_layout()\n",
    "plt.show()\n",
    "\n",
    "# Save results to CSV for later analysis\n",
    "res_df.to_csv('prophet_seer_benchmark_100k_results.csv', index=False)\n",
    "print('Saved results to prophet_seer_benchmark_100k_results.csv')"
   ]
  },
  {
   "cell_type": "markdown",
   "id": "6ceda572",
   "metadata": {},
   "source": [
    "## Notes and next steps\n",
    "\n",
    "- This notebook focuses on raw runtime for fitting and predicting. For production comparisons consider memory usage, parallelism, and multi-series workloads.\n",
    "- If you want monthly frequency tests, change `freq='D'` to `freq='MS'` in Cell 5; keep in mind `n=100k` months is unrealistic.\n",
    "- Optionally add warm-start caching of model internals (if supported) to isolate predict-only costs."
   ]
  }
 ],
 "metadata": {
  "kernelspec": {
   "display_name": "seer",
   "language": "python",
   "name": "python3"
  },
  "language_info": {
   "codemirror_mode": {
    "name": "ipython",
    "version": 3
   },
   "file_extension": ".py",
   "mimetype": "text/x-python",
   "name": "python",
   "nbconvert_exporter": "python",
   "pygments_lexer": "ipython3",
   "version": "3.11.5"
  }
 },
 "nbformat": 4,
 "nbformat_minor": 5
}
